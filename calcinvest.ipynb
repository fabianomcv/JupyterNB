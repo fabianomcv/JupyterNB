{
  "nbformat": 4,
  "nbformat_minor": 0,
  "metadata": {
    "colab": {
      "provenance": []
    },
    "kernelspec": {
      "name": "python3",
      "display_name": "Python 3"
    },
    "language_info": {
      "name": "python"
    }
  },
  "cells": [
    {
      "cell_type": "code",
      "execution_count": 12,
      "metadata": {
        "colab": {
          "base_uri": "https://localhost:8080/"
        },
        "id": "lX0P54CTSDUS",
        "outputId": "9dec9a54-5e9a-416e-f778-83b0a4a45e08"
      },
      "outputs": [
        {
          "output_type": "stream",
          "name": "stdout",
          "text": [
            "Valor inicial do investimento: R$ 178000\n",
            "\n",
            "Período do investimento (em meses ou em anos): 24\n",
            "\n",
            "Valor dos juros por período (em %): 0.9\n",
            "\n",
            "Valor da aplicação no início do período (negativo para retirada): 0\n",
            "\n",
            "------------------------------------------------------------\n",
            "\n",
            "Total de rendimentos no período: R$ 42702.88\n",
            "\n",
            "total bruto após o período: R$ 220702.88\n",
            "\n",
            "IR de 15% sobre os rendimentos (saque após 2 anos): R$ 6405.43\n",
            "\n",
            "Total líquido após o período (saque após 2 anos): R$ 214297.44\n"
          ]
        }
      ],
      "source": [
        "ini = float(input('Valor inicial do investimento: R$ '))\n",
        "per = int(input('\\nPeríodo do investimento (em meses ou em anos): '))\n",
        "jur = float(input('\\nValor dos juros por período (em %): '))\n",
        "apl = float(input('\\nValor da aplicação no início do período (negativo para retirada): '))\n",
        "total, srend = ini, 0\n",
        "for p in range(per):\n",
        "    total += apl\n",
        "    rend = jur / 100 * total\n",
        "    srend += rend\n",
        "    total += rend\n",
        "print()\n",
        "print('-' * 60)\n",
        "print(f'\\nTotal de rendimentos no período: R$ {srend:.2f}')\n",
        "print(f'\\ntotal bruto após o período: R$ {total:.2f}')\n",
        "ir = srend * 0.15\n",
        "print(f'\\nIR de 15% sobre os rendimentos (saque após 2 anos): R$ {ir:.2f}')\n",
        "print(f'\\nTotal líquido após o período (saque após 2 anos): R$ {total - ir:.2f}')"
      ]
    }
  ]
}